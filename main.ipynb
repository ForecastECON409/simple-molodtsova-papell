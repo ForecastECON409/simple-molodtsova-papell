{
 "cells": [
  {
   "cell_type": "markdown",
   "id": "f224e980",
   "metadata": {
    "cell_marker": "\"\"\"",
    "lines_to_next_cell": 0
   },
   "source": [
    "# Procedure for Evaluating the Simple Papell Model\n",
    "\n",
    "**Objective**: Adjust the hyperparameters of the proposed simple Papell model in order to maximize the model's accuracy.\n",
    "\n",
    "- Evaluation Metric: AIC\n",
    "- Evaluation Procedure: Cross-validation on a moving time window of size $h$.\n",
    "\n",
    "For a set of parameters $(h, \\lambda)$:\n",
    "\n",
    "- Information from $t - h$ to $t$. Calculated with a simple *Nowcasting* procedure.\n",
    "    - Nowcasting $\\mathbb{E}_{t-1}[\\pi_{t}]$.\n",
    "    - Nowcasting $\\mathbb{E}_{t-1}[\\tilde{\\pi}_{t}]$.\n",
    "    - Nowcasting $\\mathbb{E}_{t-1}[y_{t}]$.\n",
    "    - Nowcasting $\\mathbb{E}_{t-2}[\\tilde{y}_{t}]$."
   ]
  },
  {
   "cell_type": "code",
   "execution_count": 1,
   "id": "bb1f3f84",
   "metadata": {
    "lines_to_next_cell": 0
   },
   "outputs": [],
   "source": [
    "import matplotlib.pyplot as plt\n",
    "import pandas as pd\n",
    "import toolz as tz\n",
    "import numpy as np\n",
    "import src\n",
    "\n",
    "import itertools as itt\n",
    "\n",
    "import matplotlib.pyplot as plt\n",
    "import seaborn as sns\n",
    "\n",
    "import multiprocessing"
   ]
  },
  {
   "cell_type": "code",
   "execution_count": 2,
   "id": "2704ddf8",
   "metadata": {
    "lines_to_next_cell": 0
   },
   "outputs": [],
   "source": [
    "data = pd.read_csv('data/processed_data.csv', index_col=0, parse_dates=True)"
   ]
  },
  {
   "cell_type": "code",
   "execution_count": 3,
   "id": "b4c25c8d",
   "metadata": {
    "lines_to_next_cell": 0
   },
   "outputs": [],
   "source": [
    "# Defining the variables to be used in the nowcasting procedure and the lags\n",
    "# to update.\n",
    "variables = {\n",
    "    'pi': {\n",
    "        'lag': 1,\n",
    "        'nowcast': src.pi_nowcast_\n",
    "    },\n",
    "    'pi_star': {\n",
    "        'lag': 1,\n",
    "        'nowcast': src.pi_nowcast_\n",
    "    },\n",
    "    'Y': {\n",
    "        'lag': 1,\n",
    "        'nowcast': src.gap_nowcast_\n",
    "    },\n",
    "    'Y_star': {\n",
    "        'lag': 2,\n",
    "        'nowcast': src.gap_nowcast_\n",
    "    }\n",
    "}"
   ]
  },
  {
   "cell_type": "code",
   "execution_count": 4,
   "id": "ad894a4c",
   "metadata": {
    "lines_to_next_cell": 0
   },
   "outputs": [],
   "source": [
    "# Defining the rolling AIC function to be used in the grid search procedure.\n",
    "# Bootstrap is set to True.\n",
    "def rolling_aic(X: pd.DataFrame, y: pd.Series, h: int, alpha: float) -> float:\n",
    "    data_nowcasted = src.nowcasting_(X, y, lags=variables)\n",
    "    data_papell = tz.pipe(\n",
    "        data_nowcasted,\n",
    "        lambda x: x.assign(diff_inf = x.iloc[:, 2] - x.iloc[:, 1]),\n",
    "        lambda x: x.assign(diff_y = x.iloc[:, 4] - x.iloc[:, 3]),\n",
    "        lambda x: x.iloc[:, [0, 5, 6]]\n",
    "    )\n",
    "    return src.rolling_aic_model_(\n",
    "        data = data_nowcasted,\n",
    "        alpha = alpha,\n",
    "        h = h,\n",
    "        agg=np.mean, \n",
    "        bootstrap=True\n",
    "    )"
   ]
  },
  {
   "cell_type": "code",
   "execution_count": 5,
   "id": "30065af5",
   "metadata": {
    "lines_to_next_cell": 0
   },
   "outputs": [],
   "source": [
    "#Defining the rolling MSFE function to be used in the grid search procedure.\n",
    "#Bootstrap is set to True.\n",
    "def rolling_msfe(X: pd.DataFrame, y: pd.Series, h: int, alpha: float) -> float:\n",
    "    data_nowcasted = src.nowcasting_(X, y, lags=variables)\n",
    "    data_papell = tz.pipe(\n",
    "        data_nowcasted,\n",
    "        lambda x: x.assign(diff_inf = x.iloc[:, 2] - x.iloc[:, 1]),\n",
    "        lambda x: x.assign(diff_y = x.iloc[:, 4] - x.iloc[:, 3]),\n",
    "        lambda x: x.iloc[:, [0, 5, 6]]\n",
    "    )\n",
    "    return src.rolling_msfe_model_(\n",
    "        data = data_nowcasted,\n",
    "        alpha = alpha,\n",
    "        h = h,\n",
    "        bootstrap=True,\n",
    "        agg=lambda x: np.mean(x**2)\n",
    "    )"
   ]
  },
  {
   "cell_type": "code",
   "execution_count": 6,
   "id": "8f17354f",
   "metadata": {
    "lines_to_next_cell": 0
   },
   "outputs": [],
   "source": [
    "# Grid search for the hyperparameters h and alpha.\n",
    "grid_ = {\n",
    "    'h':list(range(6, 24)),\n",
    "    'alpha': np.linspace(0, 1, 40)\n",
    "}\n",
    "grid_ = list(itt.product(grid_['h'], grid_['alpha']))"
   ]
  },
  {
   "cell_type": "code",
   "execution_count": 7,
   "id": "fdf5d874",
   "metadata": {
    "lines_to_next_cell": 0
   },
   "outputs": [],
   "source": [
    "# Parallelizing the grid search.\n",
    "def map_rolling_aic(args):\n",
    "    x, h, alpha = args\n",
    "    return rolling_aic(data.drop(columns='S'), data['S'], h, alpha)"
   ]
  },
  {
   "cell_type": "code",
   "execution_count": 8,
   "id": "9449015b",
   "metadata": {
    "lines_to_next_cell": 0
   },
   "outputs": [],
   "source": [
    "def map_rolling_msfe(args):\n",
    "    x, h, alpha = args\n",
    "    return rolling_msfe(data.drop(columns='S'), data['S'], h, alpha)"
   ]
  },
  {
   "cell_type": "code",
   "execution_count": 9,
   "id": "6f9dc616",
   "metadata": {
    "lines_to_next_cell": 0
   },
   "outputs": [],
   "source": [
    "with multiprocessing.Pool() as p:\n",
    "    msfe_values = p.map(\n",
    "        map_rolling_msfe, \n",
    "        [(data, x[0], x[1]) for x in grid_]\n",
    "    )"
   ]
  },
  {
   "cell_type": "code",
   "execution_count": 10,
   "id": "e73e5cb4",
   "metadata": {
    "lines_to_next_cell": 0
   },
   "outputs": [],
   "source": [
    "with multiprocessing.Pool() as p:\n",
    "    aic_values = p.map(\n",
    "        map_rolling_aic, \n",
    "        [(data, x[0], x[1]) for x in grid_]\n",
    "    )"
   ]
  },
  {
   "cell_type": "code",
   "execution_count": 11,
   "id": "762b84dd",
   "metadata": {
    "lines_to_next_cell": 0
   },
   "outputs": [],
   "source": [
    "# Dataframe with MSFE values and hyperparameters.\n",
    "msfe_values = pd.DataFrame(\n",
    "    {\n",
    "        'h': [x[0] for x in grid_],\n",
    "        'alpha': [x[1] for x in grid_],\n",
    "        'msfe': msfe_values\n",
    "    }\n",
    ")"
   ]
  },
  {
   "cell_type": "code",
   "execution_count": 12,
   "id": "8588dd86",
   "metadata": {
    "lines_to_next_cell": 0
   },
   "outputs": [],
   "source": [
    "# Dataframe with AIC values and hyperparameters.\n",
    "aic_values = pd.DataFrame(\n",
    "    {\n",
    "        'h': [x[0] for x in grid_],\n",
    "        'alpha': [x[1] for x in grid_],\n",
    "        'aic': aic_values\n",
    "    }\n",
    ")"
   ]
  },
  {
   "cell_type": "code",
   "execution_count": 13,
   "id": "f2c7b107",
   "metadata": {
    "lines_to_next_cell": 0
   },
   "outputs": [],
   "source": [
    "aic_values.to_csv('data/aic_values.csv', index=False)"
   ]
  },
  {
   "cell_type": "code",
   "execution_count": 14,
   "id": "cedee78a",
   "metadata": {
    "lines_to_next_cell": 0
   },
   "outputs": [
    {
     "data": {
      "image/png": "[encoded data removed]",
      "text/plain": [
       "<Figure size 640x480 with 2 Axes>"
      ]
     },
     "metadata": {},
     "output_type": "display_data"
    }
   ],
   "source": [
    "# Heatmap for the MSFE values.\n",
    "msfe_values_heatmap = msfe_values.pivot(index='h', columns='alpha', values='msfe')\n",
    "msfe_values_heatmap = msfe_values_heatmap.sort_index(ascending=False)\n",
    "\n",
    "fig, ax = plt.subplots()\n",
    "sns.heatmap(msfe_values_heatmap, ax=ax)\n",
    "x_tick_labels = [item.get_text() for item in ax.get_xticklabels()]\n",
    "formatted_labels = [f\"{float(label):.2f}\" for label in x_tick_labels]\n",
    "ax.set_xticklabels(formatted_labels, rotation=90)  # Aplicar las etiquetas formateadas al eje X\n",
    "\n",
    "ax.set_title('MSFE Values')\n",
    "\n",
    "plt.show()"
   ]
  },
  {
   "cell_type": "code",
   "execution_count": 15,
   "id": "c28ea5e5",
   "metadata": {
    "lines_to_next_cell": 0
   },
   "outputs": [
    {
     "data": {
      "image/png": "[encoded data removed]",
      "text/plain": [
       "<Figure size 640x480 with 2 Axes>"
      ]
     },
     "metadata": {},
     "output_type": "display_data"
    }
   ],
   "source": [
    "# Heatmap for the AIC values.\n",
    "aic_values_heatmap = aic_values.pivot(index='h', columns='alpha', values='aic')\n",
    "aic_values_heatmap = aic_values_heatmap.sort_index(ascending=False)\n",
    "\n",
    "fig, ax = plt.subplots()\n",
    "sns.heatmap(aic_values_heatmap, ax=ax)\n",
    "x_tick_labels = [item.get_text() for item in ax.get_xticklabels()]\n",
    "formatted_labels = [f\"{float(label):.2f}\" for label in x_tick_labels]\n",
    "ax.set_xticklabels(formatted_labels, rotation=90)  # Aplicar las etiquetas formateadas al eje X\n",
    "\n",
    "ax.set_title('AIC Values')\n",
    "\n",
    "plt.show()"
   ]
  },
  {
   "cell_type": "code",
   "execution_count": null,
   "id": "09bed662",
   "metadata": {},
   "outputs": [],
   "source": []
  }
 ],
 "metadata": {
  "jupytext": {
   "cell_metadata_filter": "-all",
   "formats": "py:percent,ipynb",
   "main_language": "python"
  },
  "kernelspec": {
   "display_name": "base",
   "language": "python",
   "name": "python3"
  },
  "language_info": {
   "codemirror_mode": {
    "name": "ipython",
    "version": 3
   },
   "file_extension": ".py",
   "mimetype": "text/x-python",
   "name": "python",
   "nbconvert_exporter": "python",
   "pygments_lexer": "ipython3",
   "version": "3.11.5"
  }
 },
 "nbformat": 4,
 "nbformat_minor": 5
}
